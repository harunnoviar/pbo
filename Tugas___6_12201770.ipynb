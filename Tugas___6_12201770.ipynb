{
 "cells": [
  {
   "cell_type": "code",
   "execution_count": null,
   "metadata": {
    "id": "rHy5qNEzCw4G"
   },
   "outputs": [],
   "source": []
  },
  {
   "cell_type": "markdown",
   "metadata": {
    "id": "01TN_fjwL-dN"
   },
   "source": [
    "Buatlah aplikasi Data Mahasiswa sebagai berikut:\n",
    "\n",
    "INPUT DATA MAHASISWA\n",
    "\n",
    "NIM    :\n",
    "\n",
    "NAMA   :\n",
    "\n",
    "ALAMAT :\n",
    "\n",
    "JURUSAN :\n",
    "\n",
    "KETERANGAN JURUSAN [1] SISTEM INFORMASI [2] TEKNIK INFORMATIKA\n",
    "\n",
    "Apakah Anda ingin memasukkan data lagi ? (Y) Ya ; (T) Tidak : \n",
    "\n",
    "\n"
   ]
  },
  {
   "cell_type": "markdown",
   "metadata": {
    "id": "NlRdQu4hNPdv"
   },
   "source": [
    "**Requirement I**\n",
    "\n",
    "Perulangan input akan terjadi jika user memasukkan “Y”, maka selanjutnya akan memasukkan data mahasiswa lagi dan jika user memasukkan data “T”, maka aplikasi berhenti, kemudian menampilkan data yang telah dimasukan.\n"
   ]
  },
  {
   "cell_type": "code",
   "execution_count": 110,
   "metadata": {
    "id": "Ge48DNVFDqjh",
    "scrolled": true
   },
   "outputs": [
    {
     "name": "stdout",
     "output_type": "stream",
     "text": [
      "INPUT DATA MAHASISWA\n",
      "Masukkan NIM: 123\n",
      "Masukkan Nama: harun\n",
      "Masukkan Alamat: yogyakarta\n",
      "Masukkan Jurusan [1]Sistem Informasi [2]Teknik Informatika: 1\n",
      "Apakah Anda ingin memasukkan data lagi ? (Y) Ya ; (T) Tidak : y\n",
      "DATA MAHASISWA\n",
      "Masukkan NIM: 234\n",
      "Masukkan Nama: thomas\n",
      "Masukkan Alamat: surabaya\n",
      "Masukkan Jurusan [1]Sistem Informasi [2]Teknik Informatika: 2\n",
      "Apakah Anda ingin memasukkan data lagi ? (Y) Ya ; (T) Tidak : y\n",
      "DATA MAHASISWA\n",
      "Masukkan NIM: 345\n",
      "Masukkan Nama: doni\n",
      "Masukkan Alamat: jakarta\n",
      "Masukkan Jurusan [1]Sistem Informasi [2]Teknik Informatika: 1\n",
      "Apakah Anda ingin memasukkan data lagi ? (Y) Ya ; (T) Tidak : t\n",
      "DATA MAHASISWA\n",
      "BIODATA MAHASISWA\n",
      "NIM:  123\n",
      "Nama:  harun\n",
      "Alamat:  yogyakarta\n",
      "Jurusan:  Sistem Informasi\n",
      "\n",
      "BIODATA MAHASISWA\n",
      "NIM:  234\n",
      "Nama:  thomas\n",
      "Alamat:  surabaya\n",
      "Jurusan:  Teknik Informasi\n",
      "\n",
      "BIODATA MAHASISWA\n",
      "NIM:  345\n",
      "Nama:  doni\n",
      "Alamat:  jakarta\n",
      "Jurusan:  Sistem Informasi\n",
      "\n"
     ]
    }
   ],
   "source": [
    "#Jawaban Tugas 6\n",
    "\n",
    "listData = []\n",
    "isi = \"y\" \n",
    "print(\"INPUT DATA MAHASISWA\")\n",
    "\n",
    "while isi in ('y','Y'):\n",
    "    \n",
    "    nim =input(\"Masukkan NIM: \")\n",
    "    nama = input(\"Masukkan Nama: \")\n",
    "    alamat = input(\"Masukkan Alamat: \")\n",
    "    jurusan = int(input(\"Masukkan Jurusan [1]Sistem Informasi [2]Teknik Informatika: \"))\n",
    "\n",
    "    if jurusan == 1:\n",
    "        jurusan = 'Sistem Informasi'\n",
    "    if jurusan == 2:\n",
    "        jurusan = 'Teknik Informasi'\n",
    "\n",
    "    listData.append([nim,nama,alamat,jurusan])\n",
    "\n",
    "    isi = input(\"Apakah Anda ingin memasukkan data lagi ? (Y) Ya ; (T) Tidak : \")\n",
    "\n",
    "    \n",
    "\n",
    "n=len(listData)\n",
    "\n",
    "for i in range(n):\n",
    "    print (\"BIODATA MAHASISWA\")\n",
    "    print(\"NIM: \",listData[i][0])\n",
    "    print(\"Nama: \",listData[i][1])\n",
    "    print(\"Alamat: \",listData[i][2])\n",
    "    print(\"Jurusan: \",listData[i][3])\n",
    "    print(\"\")\n",
    "\n",
    "\n",
    "\n",
    "\n"
   ]
  },
  {
   "cell_type": "code",
   "execution_count": null,
   "metadata": {},
   "outputs": [],
   "source": []
  }
 ],
 "metadata": {
  "colab": {
   "collapsed_sections": [],
   "name": "Tugas___6.ipynb",
   "provenance": []
  },
  "kernelspec": {
   "display_name": "Python 3",
   "language": "python",
   "name": "python3"
  },
  "language_info": {
   "codemirror_mode": {
    "name": "ipython",
    "version": 3
   },
   "file_extension": ".py",
   "mimetype": "text/x-python",
   "name": "python",
   "nbconvert_exporter": "python",
   "pygments_lexer": "ipython3",
   "version": "3.8.3"
  }
 },
 "nbformat": 4,
 "nbformat_minor": 1
}
