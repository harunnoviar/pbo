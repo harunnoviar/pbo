{
 "cells": [
  {
   "cell_type": "code",
   "execution_count": 1,
   "metadata": {},
   "outputs": [
    {
     "name": "stdout",
     "output_type": "stream",
     "text": [
      "Sisi Kubus : 20\n",
      "20 cm\n",
      "\n",
      "Volume Kubus =  8000 cm\n",
      "Hitung lagi [y/t] yes\n",
      "Sisi Kubus : 40\n",
      "40 cm\n",
      "\n",
      "Volume Kubus =  64000 cm\n",
      "Hitung lagi [y/t] ya\n",
      "Sisi Kubus : 6\n",
      "6 cm\n",
      "\n",
      "Volume Kubus =  216 cm\n",
      "Hitung lagi [y/t] y\n",
      "Sisi Kubus : 9\n",
      "9 cm\n",
      "\n",
      "Volume Kubus =  729 cm\n",
      "Hitung lagi [y/t] t\n",
      "\n",
      "Selesai!!\n"
     ]
    }
   ],
   "source": [
    "#### 1.Rancang dan implementasikan sebuah function untuk menghitung volume sebuah Kubus \n",
    "#### dengan bahasa pemrograman python dalam notebook jupyter\n",
    "def v_kubus(s):\n",
    "    volume = s**3 #rumus volume kubus = s^3\n",
    "    return volume\n",
    "\n",
    "#### 2.Implementasikan algoritma program dari kasus soal 1\n",
    "\n",
    "# Mulai while encounted loop\n",
    "# set j awal berisi \"y\"\n",
    "j = \"y\" \n",
    "\n",
    "# selama j berisi y, lakukan perintah dibawahnya\n",
    "while(j==\"y\" or j==\"yes\" or j==\"ya\"):\n",
    "    \n",
    "    # perintah input nilai sisi kubus\n",
    "    s = int(input(\"Sisi Kubus : \"))\n",
    "    print (s,\"cm\")\n",
    "    \n",
    "    # Perintah hitung volume menggunakan function\n",
    "    v = v_kubus(s)\n",
    "    print(\"\")\n",
    "    print(\"Volume Kubus = \",v,\"cm\")\n",
    "    \n",
    "    # Hitung lagi?\n",
    "    j = input(\"Hitung lagi [y/t] \")\n",
    "\n",
    "print (\"\")\n",
    "print (\"Selesai!!\")"
   ]
  },
  {
   "cell_type": "code",
   "execution_count": null,
   "metadata": {},
   "outputs": [],
   "source": []
  },
  {
   "cell_type": "code",
   "execution_count": null,
   "metadata": {},
   "outputs": [],
   "source": []
  }
 ],
 "metadata": {
  "kernelspec": {
   "display_name": "Python 3",
   "language": "python",
   "name": "python3"
  },
  "language_info": {
   "codemirror_mode": {
    "name": "ipython",
    "version": 3
   },
   "file_extension": ".py",
   "mimetype": "text/x-python",
   "name": "python",
   "nbconvert_exporter": "python",
   "pygments_lexer": "ipython3",
   "version": "3.8.3"
  }
 },
 "nbformat": 4,
 "nbformat_minor": 4
}
