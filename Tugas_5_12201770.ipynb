{
 "cells": [
  {
   "cell_type": "code",
   "execution_count": null,
   "metadata": {
    "id": "rHy5qNEzCw4G"
   },
   "outputs": [],
   "source": []
  },
  {
   "cell_type": "markdown",
   "metadata": {
    "id": "aCDGpWd-Cz2S"
   },
   "source": [
    "**Soal 1**\n",
    "\n",
    "Rancanglah sebuah class **Kendaraan** yang tidak memiliki atribut dan method sama sekali. Implementasikan dalam kode python kemudian lakukan eksekusi kemudian amati dan berikan penjelasan "
   ]
  },
  {
   "cell_type": "code",
   "execution_count": 72,
   "metadata": {
    "id": "Ge48DNVFDqjh"
   },
   "outputs": [
    {
     "ename": "SyntaxError",
     "evalue": "unexpected EOF while parsing (<ipython-input-72-0c8669f0b242>, line 4)",
     "output_type": "error",
     "traceback": [
      "\u001b[0;36m  File \u001b[0;32m\"<ipython-input-72-0c8669f0b242>\"\u001b[0;36m, line \u001b[0;32m4\u001b[0m\n\u001b[0;31m    \u001b[0m\n\u001b[0m    ^\u001b[0m\n\u001b[0;31mSyntaxError\u001b[0m\u001b[0;31m:\u001b[0m unexpected EOF while parsing\n"
     ]
    }
   ],
   "source": [
    "#Soal 1\n",
    "\n",
    "class Kendaraan:\n",
    "    "
   ]
  },
  {
   "cell_type": "markdown",
   "metadata": {
    "id": "6sTLg-NHD0vm"
   },
   "source": [
    "*Penjelasan Soal 1 :*\n",
    "\n",
    "- Terjadi error karena tidak sesuai dengan syarat syntax membuat class yang terdiri dari:\n",
    "\n",
    "class ClassName:\n",
    "   'Optional class documentation string'\n",
    "   class_suite\n",
    "   \n",
    "- class_suite sendiri dapat berupa class members, data attributes dan functions/methode"
   ]
  },
  {
   "cell_type": "markdown",
   "metadata": {
    "id": "WZfosTyeD7-k"
   },
   "source": [
    "**Soal 2**\n",
    "\n",
    "Rancanglah sebuah class Kendaraan yang memiliki atribut max_speed, jumlah_roda dan bahan_bakar. Buat class tersebut sekaligus implementasinya"
   ]
  },
  {
   "cell_type": "code",
   "execution_count": 73,
   "metadata": {
    "id": "LGn4ehONEuJn"
   },
   "outputs": [
    {
     "name": "stdout",
     "output_type": "stream",
     "text": [
      "Kecepatan maksimumnya 130 km/j dengan jumlah roda 2 dan kosumsi bahan bakar bensin \n"
     ]
    }
   ],
   "source": [
    "#Kode Soal 2\n",
    "\n",
    "class Kendaraan:\n",
    "    'class Kendaraan'\n",
    "    \n",
    "    def __init__(self,max_speed, jumlah_roda, bahan_bakar):\n",
    "        self.max_speed = max_speed\n",
    "        self.jumlah_roda = jumlah_roda\n",
    "        self.bahan_bakar = bahan_bakar\n",
    "    \n",
    "    def Keterangan(self):\n",
    "        print('Kecepatan maksimumnya {} dengan jumlah roda {} dan kosumsi bahan bakar {} '.format(self.max_speed,self.jumlah_roda,self.bahan_bakar))\n",
    "\n",
    "motor = Kendaraan('130 km/j', 2, 'bensin')\n",
    "motor.Keterangan()\n",
    "\n",
    "        \n",
    "    \n",
    "    "
   ]
  },
  {
   "cell_type": "markdown",
   "metadata": {
    "id": "-vjXUjdqFCTi"
   },
   "source": [
    "**Soal 3**\n",
    "\n",
    "Rancanglah sebuah **class Bis** yang merupakan hasil penurunan dari **Class Kendaraan** pada soal 2, Tambahkan kompunen yang dibutuhkan di dari class Bus tersebut selain dari kompunen induk.  Buatlah class tersebut sekaligus implementasinya"
   ]
  },
  {
   "cell_type": "code",
   "execution_count": 68,
   "metadata": {
    "id": "O2yHVHLSFkaZ"
   },
   "outputs": [],
   "source": [
    "#Kode Soal 3\n",
    "\n",
    "class Bis(Kendaraan):\n",
    "    def __init__(self,max_speed,jumlah_roda,bahan_bakar):\n",
    "        super().__init__(max_speed,jumlah_roda,bahan_bakar)\n",
    "    \n",
    "    def input_type(self,type):\n",
    "        return (type)\n",
    "   "
   ]
  },
  {
   "cell_type": "code",
   "execution_count": 69,
   "metadata": {},
   "outputs": [],
   "source": [
    "hino = Bis('200km/j', 6, 'solar')"
   ]
  },
  {
   "cell_type": "code",
   "execution_count": 70,
   "metadata": {},
   "outputs": [
    {
     "name": "stdout",
     "output_type": "stream",
     "text": [
      "Kecepatan maksimumnya 200km/j dengan jumlah roda 6 dan kosumsi bahan bakar solar \n"
     ]
    }
   ],
   "source": [
    "hino.Keterangan()"
   ]
  },
  {
   "cell_type": "code",
   "execution_count": 71,
   "metadata": {},
   "outputs": [
    {
     "data": {
      "text/plain": [
       "'RN-285'"
      ]
     },
     "execution_count": 71,
     "metadata": {},
     "output_type": "execute_result"
    }
   ],
   "source": [
    "hino.input_type('RN-285')"
   ]
  },
  {
   "cell_type": "code",
   "execution_count": null,
   "metadata": {},
   "outputs": [],
   "source": []
  }
 ],
 "metadata": {
  "colab": {
   "collapsed_sections": [],
   "name": "Bag2_Tugas_1.ipynb",
   "provenance": []
  },
  "kernelspec": {
   "display_name": "Python 3",
   "language": "python",
   "name": "python3"
  },
  "language_info": {
   "codemirror_mode": {
    "name": "ipython",
    "version": 3
   },
   "file_extension": ".py",
   "mimetype": "text/x-python",
   "name": "python",
   "nbconvert_exporter": "python",
   "pygments_lexer": "ipython3",
   "version": "3.8.3"
  }
 },
 "nbformat": 4,
 "nbformat_minor": 1
}
