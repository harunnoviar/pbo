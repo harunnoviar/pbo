{
 "cells": [
  {
   "cell_type": "code",
   "execution_count": null,
   "metadata": {
    "id": "22s8pI85u5_J"
   },
   "outputs": [],
   "source": []
  },
  {
   "cell_type": "markdown",
   "metadata": {
    "id": "fPMZcyuxvINI"
   },
   "source": [
    "**Soal 5.1.1**\n",
    "\n",
    "Berikut ini adalah potongan kode implementasi fungsi *luas_limas_segi_empat()*\n",
    "``` javascript\n",
    "print(\"Luas : %d\" % luas_limas_segi_empat(Alas_limas, Tinggi_limas))​\n",
    "```\n",
    "Lengkapilah kode tersebut dengan merancang sebuah fungsi agar bisa diimplementasikan sesuai dengan statment potongan kode diatas.\n",
    "dengan mengetikan pada code cell di bawah ini pada editor."
   ]
  },
  {
   "cell_type": "code",
   "execution_count": 8,
   "metadata": {
    "id": "WMeeaGjuxQfL"
   },
   "outputs": [
    {
     "name": "stdout",
     "output_type": "stream",
     "text": [
      "Masukkan Luas Alas Limas: 100\n",
      "Masukkan Tinggi Limas: 10\n",
      "Luas : 210\n"
     ]
    }
   ],
   "source": [
    "# Soal 4.1.1\n",
    "\n",
    "# Rumus\n",
    "# Luas Limas = luas alas + luas selimut\n",
    "# Luas alas = s x s  , atau bisa didapat s = akar dari luas\n",
    "# Luas selimut = 4 x 1/2 x s x t\n",
    "\n",
    "import math\n",
    "def luas_limas_segi_empat(Alas_limas,Tinggi_limas):\n",
    "    Sisi_limas = math.sqrt(Alas_limas)\n",
    "    #print(Sisi_limas)\n",
    "    Luas_selimut = 4 * 0.5 * Sisi_limas * Tinggi_limas\n",
    "    Luas_limas = Sisi_limas + Luas_selimut\n",
    "    return Luas_limas\n",
    "    \n",
    "Alas_limas = int(input(\"Masukkan Luas Alas Limas: \"))\n",
    "Tinggi_limas =int(input(\"Masukkan Tinggi Limas: \"))\n",
    "\n",
    "\n",
    "print(\"Luas : %d\" % luas_limas_segi_empat(Alas_limas,Tinggi_limas))\n",
    "    \n"
   ]
  },
  {
   "cell_type": "code",
   "execution_count": null,
   "metadata": {},
   "outputs": [],
   "source": []
  }
 ],
 "metadata": {
  "colab": {
   "collapsed_sections": [],
   "name": "5.1_Tugas_Materi_Fungsi.ipynb",
   "provenance": []
  },
  "kernelspec": {
   "display_name": "Python 3",
   "language": "python",
   "name": "python3"
  },
  "language_info": {
   "codemirror_mode": {
    "name": "ipython",
    "version": 3
   },
   "file_extension": ".py",
   "mimetype": "text/x-python",
   "name": "python",
   "nbconvert_exporter": "python",
   "pygments_lexer": "ipython3",
   "version": "3.8.3"
  }
 },
 "nbformat": 4,
 "nbformat_minor": 1
}
