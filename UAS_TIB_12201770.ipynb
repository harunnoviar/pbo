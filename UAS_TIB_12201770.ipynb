{
 "cells": [
  {
   "cell_type": "code",
   "execution_count": null,
   "metadata": {
    "id": "PyOPiCv8CwFD"
   },
   "outputs": [],
   "source": []
  },
  {
   "cell_type": "markdown",
   "metadata": {
    "id": "wmLXDio5Dedv"
   },
   "source": [
    "**NIM : 12201770**\n",
    "\n",
    "**Nama : Harun Noviar**"
   ]
  },
  {
   "cell_type": "markdown",
   "metadata": {
    "id": "4P01AZZYDrDC"
   },
   "source": [
    "\n",
    "1. Ubah nama file notebook ini dengan format **UAS_TIB_NIM.ipynb**\n",
    "Contoh : UAS_TIB_12399981.ipynb\n",
    "\n",
    "2. Desain Class untuk bangun ruang pada kasus UTS anda. \n",
    "3. Implementasikan Enskapsulasi untuk Class Bangun Datar yang anda rancang.  \n",
    "4. Implentasikan hasil desain class anda dengan membuat 4 (empat) buah objek objek yang berbeda dari dari kelas yang anda. \n",
    "5. Berikan contoh implementasi konsep pewarisan dari class yang anda buat.\n",
    "6. Berikan contoh implementasi konsep polymorphism dari class yang anda buat.\n",
    "7. Berikan penjelasan dari kode yang anda buat untuk point 2 - 6 diatas \n"
   ]
  },
  {
   "cell_type": "code",
   "execution_count": 51,
   "metadata": {
    "id": "xC7nBm7tFn_6"
   },
   "outputs": [],
   "source": [
    "#Jawab Sebisanya Pak....:D\n",
    "\n",
    "# ini membuat class parent BangunRuang\n",
    "class BangunRuang:\n",
    "    \n",
    "    ## method untuk rumus volume kubus \n",
    "    def rumusVolKubus(self):\n",
    "        self.volume = self.__sisi**3    # enkapsulasi pada atribut sisi agar hanya bisa diakses oleh method yang 1 class\n",
    "        print (\"Volume kubus {} : {} \".format(self.nama,self.volume))\n",
    "    \n",
    "    ## method setter sisi, untuk memasukkan parameter angka sisi melalui method ini\n",
    "    ## karena di method rumusVolKubus sudah di-set private atribut sisi nya\n",
    "    def setSisi(self,sisi):\n",
    "        self.__sisi= sisi\n",
    "    \n",
    "    \n",
    "    ### ini untuk kasus polimorpishm\n",
    "    ## method jumlah sisi \n",
    "    def jumlahSisi(self,jumlahsisi):\n",
    "        self.__jumlahsisi = jumlahsisi    # enkapsulasi attribute jumlahsisi\n",
    "    \n",
    "    ## membuat method getter jumlahSisi, karena sudah di-set private tidak bisa dipanggil dari luar class \n",
    "    def getJmlSisi(self):\n",
    "        return self.__jumlahsisi\n",
    "\n",
    "## class child dari BangunRuang    \n",
    "class Kubus(BangunRuang):     # pewarisan dari class parrent BangunRuang\n",
    "    \n",
    "    def __init__(self,nama):\n",
    "        self.nama = nama\n",
    "        print(\"Object {} sudah dibuat\".format(self.nama))\n",
    "        BangunRuang.jumlahSisi(self,6)   # Memanggil method parrent jumlahSisi\n",
    "    \n",
    "    def volume(self):\n",
    "        BangunRuang.rumusVolKubus(self)\n",
    "\n",
    "\n",
    "## Untuk Polymorpishm\n",
    "def whoami(benda):\n",
    "     print(\"Aku adalah bangun ruang berupa {} dengan jumlah sisi {} \".format(benda.nama,benda.getJmlSisi()))"
   ]
  },
  {
   "cell_type": "code",
   "execution_count": 52,
   "metadata": {},
   "outputs": [
    {
     "name": "stdout",
     "output_type": "stream",
     "text": [
      "Object bangun1 sudah dibuat\n",
      "Object bangun2 sudah dibuat\n",
      "Object bangun3 sudah dibuat\n",
      "Object bangun4 sudah dibuat\n",
      "Volume kubus bangun1 : 216 \n",
      "Volume kubus bangun2 : 729 \n",
      "Volume kubus bangun3 : 27 \n",
      "Volume kubus bangun4 : 125 \n",
      "Aku adalah bangun ruang berupa bangun1 dengan jumlah sisi 6 \n",
      "Aku adalah bangun ruang berupa bangun2 dengan jumlah sisi 6 \n",
      "Aku adalah bangun ruang berupa bangun3 dengan jumlah sisi 6 \n",
      "Aku adalah bangun ruang berupa bangun4 dengan jumlah sisi 6 \n"
     ]
    }
   ],
   "source": [
    "## Implementasi instansiasi 4 obyek\n",
    "## dari bangun1-4\n",
    "bangun1 = Kubus(\"bangun1\")\n",
    "bangun2 = Kubus(\"bangun2\")\n",
    "bangun3 = Kubus(\"bangun3\")\n",
    "bangun4 = Kubus(\"bangun4\")\n",
    "\n",
    "## bangun1-4 diset ukuran sisinya\n",
    "bangun1.setSisi(6)\n",
    "bangun2.setSisi(9)\n",
    "bangun3.setSisi(3)\n",
    "bangun4.setSisi(5)\n",
    "\n",
    "## hitung volume bangun1-4\n",
    "bangun1.volume()\n",
    "bangun2.volume()\n",
    "bangun3.volume()\n",
    "bangun4.volume()\n",
    "\n",
    "## Polymorpishm, memanggil function whoami yang di isi parameter masing-masing obyek\n",
    "whoami(bangun1)\n",
    "whoami(bangun2)\n",
    "whoami(bangun3)\n",
    "whoami(bangun4)\n"
   ]
  },
  {
   "cell_type": "code",
   "execution_count": null,
   "metadata": {},
   "outputs": [],
   "source": []
  },
  {
   "cell_type": "code",
   "execution_count": null,
   "metadata": {},
   "outputs": [],
   "source": []
  }
 ],
 "metadata": {
  "colab": {
   "collapsed_sections": [],
   "name": "UAS_TIB_NIM.ipynb",
   "provenance": []
  },
  "kernelspec": {
   "display_name": "Python 3",
   "language": "python",
   "name": "python3"
  },
  "language_info": {
   "codemirror_mode": {
    "name": "ipython",
    "version": 3
   },
   "file_extension": ".py",
   "mimetype": "text/x-python",
   "name": "python",
   "nbconvert_exporter": "python",
   "pygments_lexer": "ipython3",
   "version": "3.8.3"
  }
 },
 "nbformat": 4,
 "nbformat_minor": 1
}
